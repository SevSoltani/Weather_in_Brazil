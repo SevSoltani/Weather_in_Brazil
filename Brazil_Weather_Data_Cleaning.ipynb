{
 "cells": [
  {
   "cell_type": "code",
   "execution_count": 1,
   "metadata": {},
   "outputs": [],
   "source": [
    "import pandas as pd"
   ]
  },
  {
   "cell_type": "code",
   "execution_count": 2,
   "metadata": {},
   "outputs": [],
   "source": [
    "df = pd.read_csv(\"sudeste.csv\")"
   ]
  },
  {
   "cell_type": "markdown",
   "metadata": {},
   "source": [
    "'wsid':'id',\n",
    "'wsnm':'station_name',\n",
    "'elvt':'Elevation',\n",
    "lat:Latitude\n",
    "lon:Longitude\n",
    "inmeStation number (INMET number) for the location\n",
    "cityCity\n",
    "provState (Province)\n",
    "mdctObservation Datetime (complete date: date + time)\n",
    "dateDate of observation\n",
    "yrThe year (2000-2016)\n",
    "moThe month (0-12)\n",
    "daThe day (0-31)\n",
    "hrThe hour (0-23)\n",
    "prcpAmount of precipitation in millimetres (last hour)\n",
    "stpAir pressure for the hour in hPa to tenths (instant)\n",
    "smaxMaximum air pressure for the last hour in hPa to tenths\n",
    "sminMinimum air pressure for the last hour in hPa to tenths\n",
    "gbrdSolar radiation KJ/m2\n",
    "tempAir temperature (instant) in celsius degrees\n",
    "dewpDew point temperature (instant) in celsius degrees\n",
    "tmaxMaximum temperature for the last hour in celsius degrees\n",
    "dmaxMaximum dew point temperature for the last hour in celsius degrees\n",
    "tminMinimum temperature for the last hour in celsius degrees\n",
    "dminMinimum dew point temperature for the last hour in celsius degrees\n",
    "hmdyRelative humid in % (instant)\n",
    "hmaxMaximum relative humid temperature for the last hour in %\n",
    "hminMinimum relative humid temperature for the last hour in %\n",
    "wdspWind speed in metres per second\n",
    "wdctWind direction in radius degrees (0-360)\n",
    "gustWind gust in metres per second"
   ]
  },
  {
   "cell_type": "code",
   "execution_count": 17,
   "metadata": {},
   "outputs": [
    {
     "name": "stdout",
     "output_type": "stream",
     "text": [
      "['São Gonçalo' 'Vitória' 'Santa Teresa' 'Linhares' 'Alfredo Chaves'\n",
      " 'São Mateus' 'Alegre' 'Presidente Kennedy' 'Nova Venécia'\n",
      " 'Afonso Cláudio' 'Barbacena' 'Araxá' 'Montes Claros' 'Uberlândia'\n",
      " 'Almenara' 'Camanducaia' 'Viçosa' 'Timóteo' 'Ituiutaba' 'Ouro Branco'\n",
      " 'São João del Rei' 'Varginha' 'Passos' 'Muriaé' 'Juiz de Fora'\n",
      " 'Campina Verde' 'Conceição das Alagoas' 'Belo Horizonte'\n",
      " 'Serra dos Aimorés' 'Patrocínio' 'Formiga' 'Sacramento' 'Montalvânia'\n",
      " 'Teófilo Otoni' 'Três Marias' 'Passa Quatro' 'Caldas' 'Maria da Fé'\n",
      " 'Governador Valadares' 'Guanhães' 'Aimorés' 'Florestal' 'Dores do Indaiá'\n",
      " 'Diamantina' 'Curvelo' 'Porteirinha' 'Mantena' 'Capelinha' 'Unaí'\n",
      " 'Espinosa' 'Buritis' 'Pirapora' 'Guarda-Mor' 'São Romão' 'Chapada Gaúcha'\n",
      " 'Águas Vermelhas' 'Itaobim' 'Rio Pardo de Minas' 'Salinas'\n",
      " 'João Pinheiro' 'Caratinga' 'Ibirité' 'Manhuaçu' 'Coronel Pacheco'\n",
      " 'Januária' 'Pompéu' 'São Sebastião do Paraíso' 'Sete Lagoas' 'Seropédica'\n",
      " 'Rio de Janeiro' 'Duque de Caxias' 'Cambuci' 'Arraial do Cabo'\n",
      " 'Campos dos Goytacazes' 'Macaé' 'Resende']\n"
     ]
    }
   ],
   "source": [
    "#print(df.head())\n",
    "#print(df.dtypes)\n",
    "#print(df['prcp'])\n",
    "#print(df.describe())\n",
    "#print(df.isna().any())\n",
    "#print(df.isnull().sum())\n",
    "print(df['city'].unique())"
   ]
  },
  {
   "cell_type": "code",
   "execution_count": 13,
   "metadata": {},
   "outputs": [],
   "source": [
    "df['prcp'] = df['prcp'].apply(lambda x : x if pd.notnull(x) else 0.0)"
   ]
  },
  {
   "cell_type": "code",
   "execution_count": 14,
   "metadata": {},
   "outputs": [
    {
     "name": "stdout",
     "output_type": "stream",
     "text": [
      "0          0.0\n",
      "1          0.0\n",
      "2          0.0\n",
      "3          0.0\n",
      "4          0.0\n",
      "5          0.0\n",
      "6          0.0\n",
      "7          0.0\n",
      "8          0.0\n",
      "9          0.0\n",
      "10         0.0\n",
      "11         0.0\n",
      "12         0.0\n",
      "13         0.0\n",
      "14         0.0\n",
      "15         0.0\n",
      "16         0.0\n",
      "17         0.0\n",
      "18         0.0\n",
      "19         0.0\n",
      "20         0.0\n",
      "21         0.0\n",
      "22         0.0\n",
      "23         0.0\n",
      "24         0.0\n",
      "25         0.0\n",
      "26         0.0\n",
      "27         0.0\n",
      "28         0.0\n",
      "29         0.0\n",
      "          ... \n",
      "6286555    0.6\n",
      "6286556    0.0\n",
      "6286557    0.4\n",
      "6286558    0.2\n",
      "6286559    0.0\n",
      "6286560    0.0\n",
      "6286561    0.0\n",
      "6286562    0.0\n",
      "6286563    0.0\n",
      "6286564    0.2\n",
      "6286565    0.0\n",
      "6286566    0.4\n",
      "6286567    3.4\n",
      "6286568    0.0\n",
      "6286569    0.0\n",
      "6286570    0.0\n",
      "6286571    0.0\n",
      "6286572    0.2\n",
      "6286573    0.4\n",
      "6286574    0.2\n",
      "6286575    0.0\n",
      "6286576    0.0\n",
      "6286577    0.2\n",
      "6286578    0.4\n",
      "6286579    0.2\n",
      "6286580    0.4\n",
      "6286581    0.0\n",
      "6286582    0.0\n",
      "6286583    0.0\n",
      "6286584    0.0\n",
      "Name: prcp, Length: 6286585, dtype: float64\n"
     ]
    }
   ],
   "source": [
    "print(df['prcp'])"
   ]
  },
  {
   "cell_type": "code",
   "execution_count": null,
   "metadata": {},
   "outputs": [],
   "source": []
  }
 ],
 "metadata": {
  "kernelspec": {
   "display_name": "Python 3",
   "language": "python",
   "name": "python3"
  },
  "language_info": {
   "codemirror_mode": {
    "name": "ipython",
    "version": 3
   },
   "file_extension": ".py",
   "mimetype": "text/x-python",
   "name": "python",
   "nbconvert_exporter": "python",
   "pygments_lexer": "ipython3",
   "version": "3.6.8"
  }
 },
 "nbformat": 4,
 "nbformat_minor": 2
}
